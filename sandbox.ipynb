{
 "cells": [
  {
   "cell_type": "code",
   "execution_count": 4,
   "metadata": {},
   "outputs": [
    {
     "name": "stdout",
     "output_type": "stream",
     "text": [
      "2023-03-10 40.3 89 0.17\n",
      "Patchy rain possible //cdn.weatherapi.com/weather/64x64/day/176.png\n",
      "2023-03-11 38.7 0 0.0\n",
      "Partly cloudy //cdn.weatherapi.com/weather/64x64/day/116.png\n",
      "2023-03-12 49.3 85 0.17\n",
      "Patchy rain possible //cdn.weatherapi.com/weather/64x64/day/176.png\n"
     ]
    }
   ],
   "source": [
    "import json\n",
    "from pprint import pprint as pretty\n",
    "\n",
    "with open(\"ex_weather_api_response.json\", 'r') as f:\n",
    "    contents = f.read()\n",
    "    contents = json.loads(contents)\n",
    "\n",
    "for forecast in contents[\"forecast\"][\"forecastday\"]:\n",
    "    print(forecast[\"date\"], forecast[\"day\"][\"avgtemp_f\"], forecast[\"day\"][\"daily_chance_of_rain\"], forecast[\"day\"][\"totalprecip_in\"])\n",
    "    print(forecast[\"day\"][\"condition\"][\"text\"], forecast[\"day\"][\"condition\"][\"icon\"])"
   ]
  },
  {
   "cell_type": "code",
   "execution_count": 10,
   "metadata": {},
   "outputs": [
    {
     "name": "stdout",
     "output_type": "stream",
     "text": [
      "empty\n"
     ]
    }
   ],
   "source": [
    "a = {}\n",
    "if not a:\n",
    "    print(\"empty\")"
   ]
  }
 ],
 "metadata": {
  "kernelspec": {
   "display_name": ".venv-datascience",
   "language": "python",
   "name": "python3"
  },
  "language_info": {
   "codemirror_mode": {
    "name": "ipython",
    "version": 3
   },
   "file_extension": ".py",
   "mimetype": "text/x-python",
   "name": "python",
   "nbconvert_exporter": "python",
   "pygments_lexer": "ipython3",
   "version": "3.7.8"
  },
  "orig_nbformat": 4
 },
 "nbformat": 4,
 "nbformat_minor": 2
}
